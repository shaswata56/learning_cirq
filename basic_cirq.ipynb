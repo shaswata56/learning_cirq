{
 "cells": [
  {
   "cell_type": "code",
   "execution_count": 1,
   "metadata": {},
   "outputs": [],
   "source": [
    "import cirq"
   ]
  },
  {
   "cell_type": "markdown",
   "metadata": {},
   "source": [
    "using named qubits for abstract algorithms"
   ]
  },
  {
   "cell_type": "code",
   "execution_count": 2,
   "metadata": {},
   "outputs": [],
   "source": [
    "q0 = cirq.NamedQubit('source')\n",
    "q1 = cirq.NamedQubit('target')"
   ]
  },
  {
   "cell_type": "markdown",
   "metadata": {},
   "source": [
    "line qubits can be created individually"
   ]
  },
  {
   "cell_type": "code",
   "execution_count": 3,
   "metadata": {},
   "outputs": [],
   "source": [
    "q3 = cirq.LineQubit(3)"
   ]
  },
  {
   "cell_type": "markdown",
   "metadata": {},
   "source": [
    "or can be created in a range"
   ]
  },
  {
   "cell_type": "code",
   "execution_count": 4,
   "metadata": {},
   "outputs": [],
   "source": [
    "q0, q1, q2 = cirq.LineQubit.range(3)"
   ]
  },
  {
   "cell_type": "markdown",
   "metadata": {},
   "source": [
    "this will create LineQubit(0), LineQubit(1), LineQubit(2)"
   ]
  },
  {
   "cell_type": "markdown",
   "metadata": {},
   "source": [
    "grid qubits can be referenced individually"
   ]
  },
  {
   "cell_type": "code",
   "execution_count": 6,
   "metadata": {},
   "outputs": [],
   "source": [
    "q4_5 = cirq.GridQubit(4,5)"
   ]
  },
  {
   "cell_type": "markdown",
   "metadata": {},
   "source": [
    "or can be created in bulk in a square"
   ]
  },
  {
   "cell_type": "code",
   "execution_count": 7,
   "metadata": {},
   "outputs": [],
   "source": [
    "qubits = cirq.GridQubit.square(4)"
   ]
  },
  {
   "cell_type": "markdown",
   "metadata": {},
   "source": [
    "this will create 16 qubits from (0,0) to (3,3)"
   ]
  },
  {
   "cell_type": "markdown",
   "metadata": {},
   "source": [
    "There are also pre-packaged sets of qubits called Devices. These are qubits along with a set of rules of how they can be used. A cirq.Device can be used to apply adjacency rules and other hardware constraints to a quantum circuit. For our example, we will use the cirq.google.Foxtail device that comes with cirq. It is a 2x11 grid that mimics early hardware released by Google."
   ]
  },
  {
   "cell_type": "code",
   "execution_count": 8,
   "metadata": {},
   "outputs": [
    {
     "name": "stdout",
     "output_type": "stream",
     "text": [
      "(0, 0)───(0, 1)───(0, 2)───(0, 3)───(0, 4)───(0, 5)───(0, 6)───(0, 7)───(0, 8)───(0, 9)───(0, 10)\n",
      "│        │        │        │        │        │        │        │        │        │        │\n",
      "│        │        │        │        │        │        │        │        │        │        │\n",
      "(1, 0)───(1, 1)───(1, 2)───(1, 3)───(1, 4)───(1, 5)───(1, 6)───(1, 7)───(1, 8)───(1, 9)───(1, 10)\n"
     ]
    }
   ],
   "source": [
    "print(cirq.google.Foxtail)"
   ]
  },
  {
   "cell_type": "markdown",
   "metadata": {},
   "source": [
    "# some basic concepts\n",
    "- Gate: an effect that can be applied to a set of qubits\n",
    "- Operation: a gate applied to a set of qubits"
   ]
  },
  {
   "cell_type": "markdown",
   "metadata": {},
   "source": [
    "For instance, `cirq.H` is the quantum Hadamard and is a `Gate` object. `cirq.H(cirq.LineQubit(1))` is an `Operation` object and is the Hadamard gate applied to a specific qubit (line qubit number 1)."
   ]
  },
  {
   "cell_type": "markdown",
   "metadata": {},
   "source": [
    "# common gates"
   ]
  },
  {
   "cell_type": "markdown",
   "metadata": {},
   "source": [
    "## single qubit gates\n",
    "\n",
    "Most single-qubit gates can be thought of as rotation around an axis in the [Bloch Sphere](https://en.wikipedia.org/wiki/Bloch_sphere) representation and are usually reffered to by their axis of rotation (like electron configuration px, py, pz etc). Some operators use the notation of a 'half-turn' which is defined as a 180 degree (pi radians) rotation around the axis.\n",
    "\n",
    "**cirq.X / cirq.Y / cirq.Z** The [Pauli Gates](https://en.wikipedia.org/wiki/Quantum_logic_gate#Pauli-X_gate) X, Y and Z which rotate the state around the associated axis by one half-turn.\n",
    "\n",
    "**cirq.rx(rads)** A rotation about the Pauli ‘X’ axis in terms of radians. This is equivalent to `exp(-i X rads / 2) = cos(rads/2) I + i sin(rads/2) X`\n",
    "\n",
    "**cirq.ry(rads)** A rotation about the Pauli ‘Y’ axis in terms of radians. This is equivalent to `exp(-i Y rads / 2) = cos(rads/2) I + i sin(rads/2) Y`\n",
    "\n",
    "**cirq.rz(rads)** A rotation about the Pauli ‘Z’ axis in terms of radians. This is equivalent to `exp(-i Z rads / 2) = cos(rads/2) I + i sin(rads/2) Z`\n",
    "\n",
    "**cirq.XPowGate(exponent=t)** Rotations about the Pauli `X` axis, equivalent to `cirq.X**t`. See [XPowGate](https://cirq.readthedocs.io/en/latest/generated/cirq.XPowGate.html) for its unitary matrix. Note that this has a global phase of e^{i·π·t/2} versus the traditionally defined rotation matrix, which can be modified by the optional parameter `global_shift`.\n",
    "\n",
    "**cirq.YPowGate(exponent=t)** same as `cirq.XPowGate(exponent=t)` just for the Pauli `Y` axis.\n",
    "\n",
    "**cirq.ZPowGate(exponent=t)** same as `cirq.XPowGate(exponent=t)` just for the Pauli `Z` axis.\n",
    "\n",
    "**cirq.PhasedXPowGate** This gate is a rotation about an axis in the XY plane of the Bloch sphere. The `PhasedXPowGate` takes two parameters, `exponent` and `phase_exponent`. The gate is equivalent to the circuit `───Z^-p───X^t───Z^p───` where `p` is the `phase_exponent` and `t` is the `exponent`.\n",
    "\n",
    "**cirq.H / cirq.HPowGate** The Hadamard gate is a rotation around the X+Z axis. `cirq.HPowGate(exponent=t)` is a variable rotation of t turns around this axis. `cirq.H` is a π rotation and is equivalent to `cirq.HPowGate(exponent=1)`\n",
    "\n",
    "**S** The square root of Z gate, equivalent to `cirq.Z**0.5`\n",
    "\n",
    "**T** The fourth root of Z gate, equivalent to `cirq.Z**0.25`.\n",
    "\n",
    "\n",
    "## two qubit gates\n",
    "\n",
    "**cirq.CZ / cirq.CZPowGate** The controlled-Z gate. A two qubit gate that phases the |11⟩ state. `cirq.CZPowGate(exponent=t)` is equivalent to `exp(i pi |11⟩⟨11| t)`.\n",
    "\n",
    "**cirq.CNOT / cirq.CNotPowGate** The controlled-X gate. This gate swaps the |11⟩ and |10⟩ states. `cirq.CNotPowGate(exponent=t)` is equivalent to `cirq.CNOT**t`.\n",
    "\n",
    "**cirq.SWAP / cirq.SwapPowGate** The swap gate swaps the |01⟩ and |10⟩ states. `cirq.SWAP**t` is the same as `cirq.SwapPowGate(exponent=t)`.\n",
    "\n",
    "**cirq.ISWAP / cirq.ISwapPowGate** The iSwap gate swaps the |01⟩ and |10⟩ states and adds a relative phase of i. `cirq.ISWAP**t` is the same as `cirq.ISwapPowGate(exponent=t)`.\n",
    "\n",
    "**Parity gates** The gates cirq.XX, cirq.YY, and cirq.ZZ are equivalent to performing the equivalent one-qubit Pauli gates on both qubits. The gates cirq.XXPowGate, cirq.YYPowGate, and cirq.ZZPowGate are the powers of these gates.\n",
    "\n",
    "\n",
    "## other gates\n",
    "\n",
    "**cirq.matrixGate** A gate defined by its unitary matrix in the form of a numpy ndarray.\n",
    "\n",
    "**cirq.WaitGate** This gate does nothing for a specified `cirq.Duration` amount of time. this is useful for conducting T1 and T2 decay experiments.\n",
    "\n",
    "**cirq.CCNOT, cirq.CCX, cirq.TOFFOLI, cirq.CCXPowGate** Three qubit gates representing the controlled-controlled-X gates.\n",
    "\n",
    "**cirq.CCZ, cirq.CCZPowGate** Three qubit gates representing a controlled-controlled-Z gate.\n",
    "\n",
    "**CSWAP, CSwapGate, FREDKIN** Three qubit gates representing a controlled-swap gate."
   ]
  }
 ],
 "metadata": {
  "kernelspec": {
   "display_name": "Python 3",
   "language": "python",
   "name": "python3"
  },
  "language_info": {
   "codemirror_mode": {
    "name": "ipython",
    "version": 3
   },
   "file_extension": ".py",
   "mimetype": "text/x-python",
   "name": "python",
   "nbconvert_exporter": "python",
   "pygments_lexer": "ipython3",
   "version": "3.8.5"
  }
 },
 "nbformat": 4,
 "nbformat_minor": 4
}
